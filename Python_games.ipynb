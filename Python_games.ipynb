{
  "nbformat": 4,
  "nbformat_minor": 0,
  "metadata": {
    "colab": {
      "name": "Python_games.ipynb",
      "provenance": [],
      "authorship_tag": "ABX9TyPzZjRlURZyTUR5kYW4Z6Vt",
      "include_colab_link": true
    },
    "kernelspec": {
      "name": "python3",
      "display_name": "Python 3"
    },
    "language_info": {
      "name": "python"
    }
  },
  "cells": [
    {
      "cell_type": "markdown",
      "metadata": {
        "id": "view-in-github",
        "colab_type": "text"
      },
      "source": [
        "<a href=\"https://colab.research.google.com/github/sami10644/python-mini-projects/blob/master/Python_games.ipynb\" target=\"_parent\"><img src=\"https://colab.research.google.com/assets/colab-badge.svg\" alt=\"Open In Colab\"/></a>"
      ]
    },
    {
      "cell_type": "code",
      "execution_count": null,
      "metadata": {
        "colab": {
          "base_uri": "https://localhost:8080/"
        },
        "id": "ffDk0RqKp3Da",
        "outputId": "28c54ef1-bda4-45e5-a059-2b5b278f1f2a"
      },
      "outputs": [
        {
          "output_type": "stream",
          "name": "stdout",
          "text": [
            "Enter a year:- 2020\n",
            "2020 is a leap year!!\n"
          ]
        }
      ],
      "source": [
        "year = int(input(\"Enter a year:- \"))   # Here, you take the input from the user\n",
        "\n",
        "if(((year % 4 == 0) and (year % 100 != 0)) or (year % 400 == 0)):   \n",
        "    \"\"\"\n",
        "    if a year is a multiple of four and a multiple of 100 i.e. if it is a multiple of 400 it is not a leap year\n",
        "    \"\"\"\n",
        "    print(\"{0} is a leap year!!\".format(year))\n",
        "    \"\"\"\n",
        "    printing the output\n",
        "    \"\"\"\n",
        "else:\n",
        "    print(\"{0} is not a leap year!!\".format(year))"
      ]
    },
    {
      "cell_type": "code",
      "source": [
        "squares = [' ']*9\n",
        "players = 'XO'\n",
        "board = '''\n",
        "  0   1   2\n",
        "  {0} | {1} | {2}\n",
        " -----------\n",
        "3 {3} | {4} | {5} 5\n",
        " -----------\n",
        "  {6} | {7} | {8}\n",
        "  6   7   8\n",
        "'''\n",
        "win_conditions = [\n",
        "    (0, 1, 2), (3, 4, 5), (6, 7, 8), # horizontals\n",
        "    (0, 3, 6), (1, 4, 7), (2, 5, 8), # verticals\n",
        "    (0, 4, 8), (2, 4, 6)             # diagonals\n",
        "]\n",
        "\n",
        "def check_win(player):\n",
        "    for a, b, c in win_conditions:\n",
        "        if {squares[a], squares[b], squares[c]} == {player}:\n",
        "            return True\n",
        "34343\n",
        "\n",
        "while True:\n",
        "    print(board.format(*squares))\n",
        "    if check_win(players[1]):\n",
        "        print(f'{players[1]} is the winner!')\n",
        "        break\n",
        "    if ' ' not in squares:\n",
        "        print('Cats game!')\n",
        "        break\n",
        "    move = input(f'{players[0]} to move [0-8] > ')\n",
        "    if not move.isdigit() or not 0 <= int(move) <= 8 or squares[int(move)] != ' ':\n",
        "        print('Invalid move!')\n",
        "        continue\n",
        "    squares[int(move)], players = players[0], players[::-1]"
      ],
      "metadata": {
        "id": "r8Enw7y_p6qp"
      },
      "execution_count": null,
      "outputs": []
    },
    {
      "cell_type": "code",
      "source": [
        "#pyCharm e chole (IF else Practice)\n",
        "print(\"Welcome to my computer quiz!\")\n",
        "\n",
        "playing = input(\"Do you want to play? \")\n",
        "\n",
        "if playing.lower() != \"yes\":\n",
        "    quit()\n",
        "\n",
        "print(\"Okay! Let's play :)\")\n",
        "score = 0\n",
        "\n",
        "answer = input(\"What does CPU stand for? \")\n",
        "if answer.lower() == \"central processing unit\":\n",
        "    print('Correct!')\n",
        "    score += 1\n",
        "else:\n",
        "    print(\"Incorrect!\")\n",
        "\n",
        "answer = input(\"What does GPU stand for? \")\n",
        "if answer.lower() == \"graphics processing unit\":\n",
        "    print('Correct!')\n",
        "    score += 1\n",
        "else:\n",
        "    print(\"Incorrect!\")\n",
        "\n",
        "answer = input(\"What does RAM stand for? \")\n",
        "if answer.lower() == \"random access memory\":\n",
        "    print('Correct!')\n",
        "    score += 1\n",
        "else:\n",
        "    print(\"Incorrect!\")\n",
        "\n",
        "answer = input(\"What does PSU stand for? \")\n",
        "if answer.lower() == \"power supply\":\n",
        "    print('Correct!')\n",
        "    score += 1\n",
        "else:\n",
        "    print(\"Incorrect!\")\n",
        "\n",
        "print(\"You got \" + str(score) + \" questions correct!\")\n",
        "print(\"You got \" + str((score / 4) * 100) + \"%.\")"
      ],
      "metadata": {
        "id": "7xzsxvVQUMGY"
      },
      "execution_count": null,
      "outputs": []
    },
    {
      "cell_type": "code",
      "source": [
        "#update if else with loop ............ \n",
        "import random\n",
        "\n",
        "top_of_range = input(\"Type a number: \")\n",
        "\n",
        "if top_of_range.isdigit():\n",
        "    top_of_range = int(top_of_range)\n",
        "\n",
        "    if top_of_range <= 0:\n",
        "        print('Please type a number larger than 0 next time.')\n",
        "        quit()\n",
        "else:\n",
        "    print('Please type a number next time.')\n",
        "    quit()\n",
        "\n",
        "random_number = random.randint(0, top_of_range)\n",
        "guesses = 0\n",
        "\n",
        "while True:\n",
        "    guesses += 1\n",
        "    user_guess = input(\"Make a guess: \")\n",
        "    if user_guess.isdigit():\n",
        "        user_guess = int(user_guess)\n",
        "    else:\n",
        "        print('Please type a number next time.')\n",
        "        continue\n",
        "\n",
        "    if user_guess == random_number:\n",
        "        print(\"You got it!\")\n",
        "        break\n",
        "    elif user_guess > random_number:\n",
        "        print(\"You were above the number!\")\n",
        "    else:\n",
        "        print(\"You were below the number!\")\n",
        "\n",
        "print(\"You got it in\", guesses, \"guesses\")"
      ],
      "metadata": {
        "id": "-UsZtpDLVOIz"
      },
      "execution_count": null,
      "outputs": []
    },
    {
      "cell_type": "code",
      "source": [
        "#basic if else \n",
        "name = input(\"Type your name: \")\n",
        "print(\"Welcome\", name, \"to this adventure!\")\n",
        "\n",
        "answer = input(\n",
        "    \"You are on a dirt road, it has come to an end and you can go left or right. Which way would you like to go? \").lower()\n",
        "\n",
        "if answer == \"left\":\n",
        "    answer = input(\n",
        "        \"You come to a river, you can walk around it or swim accross? Type walk to walk around and swim to swim accross: \")\n",
        "\n",
        "    if answer == \"swim\":\n",
        "        print(\"You swam acrross and were eaten by an alligator.\")\n",
        "    elif answer == \"walk\":\n",
        "        print(\"You walked for many miles, ran out of water and you lost the game.\")\n",
        "    else:\n",
        "        print('Not a valid option. You lose.')\n",
        "\n",
        "elif answer == \"right\":\n",
        "    answer = input(\n",
        "        \"You come to a bridge, it looks wobbly, do you want to cross it or head back (cross/back)? \")\n",
        "\n",
        "    if answer == \"back\":\n",
        "        print(\"You go back and lose.\")\n",
        "    elif answer == \"cross\":\n",
        "        answer = input(\n",
        "            \"You cross the bridge and meet a stranger. Do you talk to them (yes/no)? \")\n",
        "\n",
        "        if answer == \"yes\":\n",
        "            print(\"You talk to the stanger and they give you gold. You WIN!\")\n",
        "        elif answer == \"no\":\n",
        "            print(\"You ignore the stranger and they are offended and you lose.\")\n",
        "        else:\n",
        "            print('Not a valid option. You lose.')\n",
        "    else:\n",
        "        print('Not a valid option. You lose.')\n",
        "\n",
        "else:\n",
        "    print('Not a valid option. You lose.')\n",
        "\n",
        "print(\"Thank you for trying\", name)\n"
      ],
      "metadata": {
        "id": "X82Q_839XHAJ"
      },
      "execution_count": null,
      "outputs": []
    }
  ]
}